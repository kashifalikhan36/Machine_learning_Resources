{
  "nbformat": 4,
  "nbformat_minor": 0,
  "metadata": {
    "colab": {
      "provenance": [],
      "gpuType": "V28"
    },
    "kernelspec": {
      "name": "python3",
      "display_name": "Python 3"
    },
    "language_info": {
      "name": "python"
    },
    "accelerator": "TPU"
  },
  "cells": [
    {
      "cell_type": "code",
      "execution_count": 129,
      "metadata": {
        "id": "WWqSrwaqo-rl"
      },
      "outputs": [],
      "source": [
        "from keras.models import Sequential\n",
        "from keras.layers import Dense\n",
        "from sklearn.preprocessing import OneHotEncoder\n",
        "from sklearn.model_selection import train_test_split\n",
        "from keras.optimizers import Adam\n",
        "import pandas as pd\n",
        "from sklearn.decomposition import PCA\n",
        "from sklearn.preprocessing import StandardScaler\n",
        "import numpy as np"
      ]
    },
    {
      "cell_type": "code",
      "source": [
        "model=Sequential()"
      ],
      "metadata": {
        "id": "PWglXNKixWZM"
      },
      "execution_count": 4,
      "outputs": []
    },
    {
      "cell_type": "code",
      "source": [
        "train=pd.read_csv('train.csv')\n",
        "test=pd.read_csv('test.csv')"
      ],
      "metadata": {
        "id": "cHdBOC175Vz6"
      },
      "execution_count": 112,
      "outputs": []
    },
    {
      "cell_type": "code",
      "source": [
        "pca=PCA(n_components=700)\n",
        "stand=StandardScaler()\n",
        "x=pca.fit_transform(stand.fit_transform(train.drop('label',axis=1)))\n",
        "y=train[['label']].values\n",
        "onehot=OneHotEncoder()\n",
        "y=onehot.fit_transform(y.reshape(-1,1)).toarray()"
      ],
      "metadata": {
        "id": "dDb92AWWRWv4"
      },
      "execution_count": 151,
      "outputs": []
    },
    {
      "cell_type": "code",
      "source": [
        "x.shape,y.shape"
      ],
      "metadata": {
        "id": "OlVP3CwNUw4s",
        "outputId": "77a1f314-1333-45fd-8d07-d03beef4302d",
        "colab": {
          "base_uri": "https://localhost:8080/"
        }
      },
      "execution_count": 97,
      "outputs": [
        {
          "output_type": "execute_result",
          "data": {
            "text/plain": [
              "((42000, 784), (42000, 10))"
            ]
          },
          "metadata": {},
          "execution_count": 97
        }
      ]
    },
    {
      "cell_type": "code",
      "source": [
        "model = Sequential()\n",
        "model.add(Dense(128, activation='relu', input_shape=(700,)))\n",
        "model.add(Dense(64, activation='relu'))\n",
        "model.add(Dense(32, activation='relu'))\n",
        "model.add(Dense(y.shape[1], activation='softmax'))\n",
        "model.compile(loss='categorical_crossentropy', optimizer='adam', metrics=['accuracy'])"
      ],
      "metadata": {
        "id": "lHUPcgu-5QSH"
      },
      "execution_count": 154,
      "outputs": []
    },
    {
      "cell_type": "code",
      "source": [
        "model.fit(x,y,epochs=50,batch_size=49)"
      ],
      "metadata": {
        "colab": {
          "base_uri": "https://localhost:8080/"
        },
        "id": "Nd3nr4wa58Zg",
        "outputId": "491bc1d6-ac7b-4ab2-fd89-f8a7ad33d511"
      },
      "execution_count": 155,
      "outputs": [
        {
          "output_type": "stream",
          "name": "stdout",
          "text": [
            "Epoch 1/50\n",
            "858/858 [==============================] - 3s 3ms/step - loss: 0.3858 - accuracy: 0.8914\n",
            "Epoch 2/50\n",
            "858/858 [==============================] - 3s 3ms/step - loss: 0.1333 - accuracy: 0.9637\n",
            "Epoch 3/50\n",
            "858/858 [==============================] - 3s 3ms/step - loss: 0.0811 - accuracy: 0.9780\n",
            "Epoch 4/50\n",
            "858/858 [==============================] - 3s 3ms/step - loss: 0.0578 - accuracy: 0.9855\n",
            "Epoch 5/50\n",
            "858/858 [==============================] - 2s 3ms/step - loss: 0.0392 - accuracy: 0.9903\n",
            "Epoch 6/50\n",
            "858/858 [==============================] - 2s 3ms/step - loss: 0.0347 - accuracy: 0.9912\n",
            "Epoch 7/50\n",
            "858/858 [==============================] - 2s 3ms/step - loss: 0.0313 - accuracy: 0.9920\n",
            "Epoch 8/50\n",
            "858/858 [==============================] - 3s 3ms/step - loss: 0.0242 - accuracy: 0.9934\n",
            "Epoch 9/50\n",
            "858/858 [==============================] - 3s 3ms/step - loss: 0.0250 - accuracy: 0.9936\n",
            "Epoch 10/50\n",
            "858/858 [==============================] - 3s 3ms/step - loss: 0.0272 - accuracy: 0.9933\n",
            "Epoch 11/50\n",
            "858/858 [==============================] - 2s 3ms/step - loss: 0.0147 - accuracy: 0.9961\n",
            "Epoch 12/50\n",
            "858/858 [==============================] - 3s 3ms/step - loss: 0.0203 - accuracy: 0.9950\n",
            "Epoch 13/50\n",
            "858/858 [==============================] - 3s 3ms/step - loss: 0.0188 - accuracy: 0.9955\n",
            "Epoch 14/50\n",
            "858/858 [==============================] - 2s 3ms/step - loss: 0.0186 - accuracy: 0.9949\n",
            "Epoch 15/50\n",
            "858/858 [==============================] - 3s 3ms/step - loss: 0.0152 - accuracy: 0.9957\n",
            "Epoch 16/50\n",
            "858/858 [==============================] - 2s 3ms/step - loss: 0.0105 - accuracy: 0.9974\n",
            "Epoch 17/50\n",
            "858/858 [==============================] - 3s 3ms/step - loss: 0.0206 - accuracy: 0.9943\n",
            "Epoch 18/50\n",
            "858/858 [==============================] - 3s 3ms/step - loss: 0.0180 - accuracy: 0.9951\n",
            "Epoch 19/50\n",
            "858/858 [==============================] - 3s 3ms/step - loss: 0.0108 - accuracy: 0.9967\n",
            "Epoch 20/50\n",
            "858/858 [==============================] - 3s 3ms/step - loss: 0.0177 - accuracy: 0.9961\n",
            "Epoch 21/50\n",
            "858/858 [==============================] - 3s 3ms/step - loss: 0.0112 - accuracy: 0.9969\n",
            "Epoch 22/50\n",
            "858/858 [==============================] - 3s 3ms/step - loss: 0.0093 - accuracy: 0.9978\n",
            "Epoch 23/50\n",
            "858/858 [==============================] - 3s 3ms/step - loss: 0.0133 - accuracy: 0.9971\n",
            "Epoch 24/50\n",
            "858/858 [==============================] - 3s 3ms/step - loss: 0.0155 - accuracy: 0.9962\n",
            "Epoch 25/50\n",
            "858/858 [==============================] - 2s 3ms/step - loss: 0.0102 - accuracy: 0.9974\n",
            "Epoch 26/50\n",
            "858/858 [==============================] - 2s 3ms/step - loss: 0.0133 - accuracy: 0.9972\n",
            "Epoch 27/50\n",
            "858/858 [==============================] - 2s 3ms/step - loss: 0.0135 - accuracy: 0.9971\n",
            "Epoch 28/50\n",
            "858/858 [==============================] - 2s 3ms/step - loss: 0.0108 - accuracy: 0.9976\n",
            "Epoch 29/50\n",
            "858/858 [==============================] - 2s 3ms/step - loss: 0.0086 - accuracy: 0.9978\n",
            "Epoch 30/50\n",
            "858/858 [==============================] - 2s 3ms/step - loss: 0.0138 - accuracy: 0.9970\n",
            "Epoch 31/50\n",
            "858/858 [==============================] - 2s 3ms/step - loss: 0.0100 - accuracy: 0.9974\n",
            "Epoch 32/50\n",
            "858/858 [==============================] - 3s 3ms/step - loss: 0.0077 - accuracy: 0.9981\n",
            "Epoch 33/50\n",
            "858/858 [==============================] - 2s 3ms/step - loss: 0.0108 - accuracy: 0.9972\n",
            "Epoch 34/50\n",
            "858/858 [==============================] - 2s 3ms/step - loss: 0.0101 - accuracy: 0.9974\n",
            "Epoch 35/50\n",
            "858/858 [==============================] - 2s 3ms/step - loss: 0.0077 - accuracy: 0.9979\n",
            "Epoch 36/50\n",
            "858/858 [==============================] - 2s 3ms/step - loss: 0.0089 - accuracy: 0.9977\n",
            "Epoch 37/50\n",
            "858/858 [==============================] - 2s 3ms/step - loss: 0.0108 - accuracy: 0.9976\n",
            "Epoch 38/50\n",
            "858/858 [==============================] - 2s 3ms/step - loss: 0.0101 - accuracy: 0.9973\n",
            "Epoch 39/50\n",
            "858/858 [==============================] - 2s 3ms/step - loss: 0.0081 - accuracy: 0.9980\n",
            "Epoch 40/50\n",
            "858/858 [==============================] - 2s 3ms/step - loss: 0.0084 - accuracy: 0.9984\n",
            "Epoch 41/50\n",
            "858/858 [==============================] - 2s 3ms/step - loss: 0.0048 - accuracy: 0.9986\n",
            "Epoch 42/50\n",
            "858/858 [==============================] - 3s 3ms/step - loss: 0.0126 - accuracy: 0.9975\n",
            "Epoch 43/50\n",
            "858/858 [==============================] - 3s 3ms/step - loss: 0.0097 - accuracy: 0.9977\n",
            "Epoch 44/50\n",
            "858/858 [==============================] - 2s 3ms/step - loss: 0.0059 - accuracy: 0.9984\n",
            "Epoch 45/50\n",
            "858/858 [==============================] - 3s 3ms/step - loss: 0.0079 - accuracy: 0.9980\n",
            "Epoch 46/50\n",
            "858/858 [==============================] - 3s 3ms/step - loss: 0.0058 - accuracy: 0.9984\n",
            "Epoch 47/50\n",
            "858/858 [==============================] - 3s 3ms/step - loss: 0.0093 - accuracy: 0.9976\n",
            "Epoch 48/50\n",
            "858/858 [==============================] - 3s 3ms/step - loss: 0.0056 - accuracy: 0.9987\n",
            "Epoch 49/50\n",
            "858/858 [==============================] - 2s 3ms/step - loss: 0.0083 - accuracy: 0.9983\n",
            "Epoch 50/50\n",
            "858/858 [==============================] - 2s 3ms/step - loss: 0.0062 - accuracy: 0.9985\n"
          ]
        },
        {
          "output_type": "execute_result",
          "data": {
            "text/plain": [
              "<keras.src.callbacks.History at 0x7ce25c630280>"
            ]
          },
          "metadata": {},
          "execution_count": 155
        }
      ]
    },
    {
      "cell_type": "code",
      "source": [
        "x_test=pca.fit_transform(stand.fit_transform(test))\n",
        "y_pred=model.predict(x_test)"
      ],
      "metadata": {
        "id": "q2--Ud1RAnO6",
        "outputId": "8fe169e0-86ca-489b-b000-b0938a176d34",
        "colab": {
          "base_uri": "https://localhost:8080/"
        }
      },
      "execution_count": 156,
      "outputs": [
        {
          "output_type": "stream",
          "name": "stdout",
          "text": [
            "875/875 [==============================] - 1s 2ms/step\n"
          ]
        }
      ]
    },
    {
      "cell_type": "code",
      "source": [
        "y_pre=pd.DataFrame(np.argmax(y_pred,axis=1)).reset_index()\n",
        "y_pre.columns=['ImageId','Label']\n",
        "y_pre['ImageId']=y_pre['ImageId']+1\n",
        "y_pre.to_csv('submission.csv',index=False)"
      ],
      "metadata": {
        "id": "XQysun3DZWRk"
      },
      "execution_count": 158,
      "outputs": []
    },
    {
      "cell_type": "code",
      "source": [
        "data_sub=pd.read_csv('sample_submission.csv')\n",
        "data_sub.head()"
      ],
      "metadata": {
        "id": "NsINxknYbD2p",
        "outputId": "a3692724-f502-4b2d-bc84-6274e93fb2e7",
        "colab": {
          "base_uri": "https://localhost:8080/",
          "height": 206
        }
      },
      "execution_count": 140,
      "outputs": [
        {
          "output_type": "execute_result",
          "data": {
            "text/plain": [
              "   ImageId  Label\n",
              "0        1      0\n",
              "1        2      0\n",
              "2        3      0\n",
              "3        4      0\n",
              "4        5      0"
            ],
            "text/html": [
              "\n",
              "  <div id=\"df-9da513d3-290c-4e19-a065-40f47ea845e0\" class=\"colab-df-container\">\n",
              "    <div>\n",
              "<style scoped>\n",
              "    .dataframe tbody tr th:only-of-type {\n",
              "        vertical-align: middle;\n",
              "    }\n",
              "\n",
              "    .dataframe tbody tr th {\n",
              "        vertical-align: top;\n",
              "    }\n",
              "\n",
              "    .dataframe thead th {\n",
              "        text-align: right;\n",
              "    }\n",
              "</style>\n",
              "<table border=\"1\" class=\"dataframe\">\n",
              "  <thead>\n",
              "    <tr style=\"text-align: right;\">\n",
              "      <th></th>\n",
              "      <th>ImageId</th>\n",
              "      <th>Label</th>\n",
              "    </tr>\n",
              "  </thead>\n",
              "  <tbody>\n",
              "    <tr>\n",
              "      <th>0</th>\n",
              "      <td>1</td>\n",
              "      <td>0</td>\n",
              "    </tr>\n",
              "    <tr>\n",
              "      <th>1</th>\n",
              "      <td>2</td>\n",
              "      <td>0</td>\n",
              "    </tr>\n",
              "    <tr>\n",
              "      <th>2</th>\n",
              "      <td>3</td>\n",
              "      <td>0</td>\n",
              "    </tr>\n",
              "    <tr>\n",
              "      <th>3</th>\n",
              "      <td>4</td>\n",
              "      <td>0</td>\n",
              "    </tr>\n",
              "    <tr>\n",
              "      <th>4</th>\n",
              "      <td>5</td>\n",
              "      <td>0</td>\n",
              "    </tr>\n",
              "  </tbody>\n",
              "</table>\n",
              "</div>\n",
              "    <div class=\"colab-df-buttons\">\n",
              "\n",
              "  <div class=\"colab-df-container\">\n",
              "    <button class=\"colab-df-convert\" onclick=\"convertToInteractive('df-9da513d3-290c-4e19-a065-40f47ea845e0')\"\n",
              "            title=\"Convert this dataframe to an interactive table.\"\n",
              "            style=\"display:none;\">\n",
              "\n",
              "  <svg xmlns=\"http://www.w3.org/2000/svg\" height=\"24px\" viewBox=\"0 -960 960 960\">\n",
              "    <path d=\"M120-120v-720h720v720H120Zm60-500h600v-160H180v160Zm220 220h160v-160H400v160Zm0 220h160v-160H400v160ZM180-400h160v-160H180v160Zm440 0h160v-160H620v160ZM180-180h160v-160H180v160Zm440 0h160v-160H620v160Z\"/>\n",
              "  </svg>\n",
              "    </button>\n",
              "\n",
              "  <style>\n",
              "    .colab-df-container {\n",
              "      display:flex;\n",
              "      gap: 12px;\n",
              "    }\n",
              "\n",
              "    .colab-df-convert {\n",
              "      background-color: #E8F0FE;\n",
              "      border: none;\n",
              "      border-radius: 50%;\n",
              "      cursor: pointer;\n",
              "      display: none;\n",
              "      fill: #1967D2;\n",
              "      height: 32px;\n",
              "      padding: 0 0 0 0;\n",
              "      width: 32px;\n",
              "    }\n",
              "\n",
              "    .colab-df-convert:hover {\n",
              "      background-color: #E2EBFA;\n",
              "      box-shadow: 0px 1px 2px rgba(60, 64, 67, 0.3), 0px 1px 3px 1px rgba(60, 64, 67, 0.15);\n",
              "      fill: #174EA6;\n",
              "    }\n",
              "\n",
              "    .colab-df-buttons div {\n",
              "      margin-bottom: 4px;\n",
              "    }\n",
              "\n",
              "    [theme=dark] .colab-df-convert {\n",
              "      background-color: #3B4455;\n",
              "      fill: #D2E3FC;\n",
              "    }\n",
              "\n",
              "    [theme=dark] .colab-df-convert:hover {\n",
              "      background-color: #434B5C;\n",
              "      box-shadow: 0px 1px 3px 1px rgba(0, 0, 0, 0.15);\n",
              "      filter: drop-shadow(0px 1px 2px rgba(0, 0, 0, 0.3));\n",
              "      fill: #FFFFFF;\n",
              "    }\n",
              "  </style>\n",
              "\n",
              "    <script>\n",
              "      const buttonEl =\n",
              "        document.querySelector('#df-9da513d3-290c-4e19-a065-40f47ea845e0 button.colab-df-convert');\n",
              "      buttonEl.style.display =\n",
              "        google.colab.kernel.accessAllowed ? 'block' : 'none';\n",
              "\n",
              "      async function convertToInteractive(key) {\n",
              "        const element = document.querySelector('#df-9da513d3-290c-4e19-a065-40f47ea845e0');\n",
              "        const dataTable =\n",
              "          await google.colab.kernel.invokeFunction('convertToInteractive',\n",
              "                                                    [key], {});\n",
              "        if (!dataTable) return;\n",
              "\n",
              "        const docLinkHtml = 'Like what you see? Visit the ' +\n",
              "          '<a target=\"_blank\" href=https://colab.research.google.com/notebooks/data_table.ipynb>data table notebook</a>'\n",
              "          + ' to learn more about interactive tables.';\n",
              "        element.innerHTML = '';\n",
              "        dataTable['output_type'] = 'display_data';\n",
              "        await google.colab.output.renderOutput(dataTable, element);\n",
              "        const docLink = document.createElement('div');\n",
              "        docLink.innerHTML = docLinkHtml;\n",
              "        element.appendChild(docLink);\n",
              "      }\n",
              "    </script>\n",
              "  </div>\n",
              "\n",
              "\n",
              "<div id=\"df-aa520b08-d39b-4bef-9970-3ee920d03389\">\n",
              "  <button class=\"colab-df-quickchart\" onclick=\"quickchart('df-aa520b08-d39b-4bef-9970-3ee920d03389')\"\n",
              "            title=\"Suggest charts\"\n",
              "            style=\"display:none;\">\n",
              "\n",
              "<svg xmlns=\"http://www.w3.org/2000/svg\" height=\"24px\"viewBox=\"0 0 24 24\"\n",
              "     width=\"24px\">\n",
              "    <g>\n",
              "        <path d=\"M19 3H5c-1.1 0-2 .9-2 2v14c0 1.1.9 2 2 2h14c1.1 0 2-.9 2-2V5c0-1.1-.9-2-2-2zM9 17H7v-7h2v7zm4 0h-2V7h2v10zm4 0h-2v-4h2v4z\"/>\n",
              "    </g>\n",
              "</svg>\n",
              "  </button>\n",
              "\n",
              "<style>\n",
              "  .colab-df-quickchart {\n",
              "      --bg-color: #E8F0FE;\n",
              "      --fill-color: #1967D2;\n",
              "      --hover-bg-color: #E2EBFA;\n",
              "      --hover-fill-color: #174EA6;\n",
              "      --disabled-fill-color: #AAA;\n",
              "      --disabled-bg-color: #DDD;\n",
              "  }\n",
              "\n",
              "  [theme=dark] .colab-df-quickchart {\n",
              "      --bg-color: #3B4455;\n",
              "      --fill-color: #D2E3FC;\n",
              "      --hover-bg-color: #434B5C;\n",
              "      --hover-fill-color: #FFFFFF;\n",
              "      --disabled-bg-color: #3B4455;\n",
              "      --disabled-fill-color: #666;\n",
              "  }\n",
              "\n",
              "  .colab-df-quickchart {\n",
              "    background-color: var(--bg-color);\n",
              "    border: none;\n",
              "    border-radius: 50%;\n",
              "    cursor: pointer;\n",
              "    display: none;\n",
              "    fill: var(--fill-color);\n",
              "    height: 32px;\n",
              "    padding: 0;\n",
              "    width: 32px;\n",
              "  }\n",
              "\n",
              "  .colab-df-quickchart:hover {\n",
              "    background-color: var(--hover-bg-color);\n",
              "    box-shadow: 0 1px 2px rgba(60, 64, 67, 0.3), 0 1px 3px 1px rgba(60, 64, 67, 0.15);\n",
              "    fill: var(--button-hover-fill-color);\n",
              "  }\n",
              "\n",
              "  .colab-df-quickchart-complete:disabled,\n",
              "  .colab-df-quickchart-complete:disabled:hover {\n",
              "    background-color: var(--disabled-bg-color);\n",
              "    fill: var(--disabled-fill-color);\n",
              "    box-shadow: none;\n",
              "  }\n",
              "\n",
              "  .colab-df-spinner {\n",
              "    border: 2px solid var(--fill-color);\n",
              "    border-color: transparent;\n",
              "    border-bottom-color: var(--fill-color);\n",
              "    animation:\n",
              "      spin 1s steps(1) infinite;\n",
              "  }\n",
              "\n",
              "  @keyframes spin {\n",
              "    0% {\n",
              "      border-color: transparent;\n",
              "      border-bottom-color: var(--fill-color);\n",
              "      border-left-color: var(--fill-color);\n",
              "    }\n",
              "    20% {\n",
              "      border-color: transparent;\n",
              "      border-left-color: var(--fill-color);\n",
              "      border-top-color: var(--fill-color);\n",
              "    }\n",
              "    30% {\n",
              "      border-color: transparent;\n",
              "      border-left-color: var(--fill-color);\n",
              "      border-top-color: var(--fill-color);\n",
              "      border-right-color: var(--fill-color);\n",
              "    }\n",
              "    40% {\n",
              "      border-color: transparent;\n",
              "      border-right-color: var(--fill-color);\n",
              "      border-top-color: var(--fill-color);\n",
              "    }\n",
              "    60% {\n",
              "      border-color: transparent;\n",
              "      border-right-color: var(--fill-color);\n",
              "    }\n",
              "    80% {\n",
              "      border-color: transparent;\n",
              "      border-right-color: var(--fill-color);\n",
              "      border-bottom-color: var(--fill-color);\n",
              "    }\n",
              "    90% {\n",
              "      border-color: transparent;\n",
              "      border-bottom-color: var(--fill-color);\n",
              "    }\n",
              "  }\n",
              "</style>\n",
              "\n",
              "  <script>\n",
              "    async function quickchart(key) {\n",
              "      const quickchartButtonEl =\n",
              "        document.querySelector('#' + key + ' button');\n",
              "      quickchartButtonEl.disabled = true;  // To prevent multiple clicks.\n",
              "      quickchartButtonEl.classList.add('colab-df-spinner');\n",
              "      try {\n",
              "        const charts = await google.colab.kernel.invokeFunction(\n",
              "            'suggestCharts', [key], {});\n",
              "      } catch (error) {\n",
              "        console.error('Error during call to suggestCharts:', error);\n",
              "      }\n",
              "      quickchartButtonEl.classList.remove('colab-df-spinner');\n",
              "      quickchartButtonEl.classList.add('colab-df-quickchart-complete');\n",
              "    }\n",
              "    (() => {\n",
              "      let quickchartButtonEl =\n",
              "        document.querySelector('#df-aa520b08-d39b-4bef-9970-3ee920d03389 button');\n",
              "      quickchartButtonEl.style.display =\n",
              "        google.colab.kernel.accessAllowed ? 'block' : 'none';\n",
              "    })();\n",
              "  </script>\n",
              "</div>\n",
              "\n",
              "    </div>\n",
              "  </div>\n"
            ],
            "application/vnd.google.colaboratory.intrinsic+json": {
              "type": "dataframe",
              "variable_name": "data_sub",
              "summary": "{\n  \"name\": \"data_sub\",\n  \"rows\": 28000,\n  \"fields\": [\n    {\n      \"column\": \"ImageId\",\n      \"properties\": {\n        \"dtype\": \"number\",\n        \"std\": 8083,\n        \"min\": 1,\n        \"max\": 28000,\n        \"num_unique_values\": 28000,\n        \"samples\": [\n          18407,\n          5035,\n          18326\n        ],\n        \"semantic_type\": \"\",\n        \"description\": \"\"\n      }\n    },\n    {\n      \"column\": \"Label\",\n      \"properties\": {\n        \"dtype\": \"number\",\n        \"std\": 0,\n        \"min\": 0,\n        \"max\": 0,\n        \"num_unique_values\": 1,\n        \"samples\": [\n          0\n        ],\n        \"semantic_type\": \"\",\n        \"description\": \"\"\n      }\n    }\n  ]\n}"
            }
          },
          "metadata": {},
          "execution_count": 140
        }
      ]
    }
  ]
}