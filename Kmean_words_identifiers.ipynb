{
  "nbformat": 4,
  "nbformat_minor": 0,
  "metadata": {
    "colab": {
      "provenance": [],
      "authorship_tag": "ABX9TyPzqIun9u6FwONJkIi45YJ3",
      "include_colab_link": true
    },
    "kernelspec": {
      "name": "python3",
      "display_name": "Python 3"
    },
    "language_info": {
      "name": "python"
    }
  },
  "cells": [
    {
      "cell_type": "markdown",
      "metadata": {
        "id": "view-in-github",
        "colab_type": "text"
      },
      "source": [
        "<a href=\"https://colab.research.google.com/github/kashifalikhan36/Machine_learning_Resources/blob/main/Kmean_words_identifiers.ipynb\" target=\"_parent\"><img src=\"https://colab.research.google.com/assets/colab-badge.svg\" alt=\"Open In Colab\"/></a>"
      ]
    },
    {
      "cell_type": "code",
      "execution_count": 2,
      "metadata": {
        "id": "hgQAWn3pDGIh"
      },
      "outputs": [],
      "source": [
        "import collections\n",
        "import nltk\n",
        "from nltk import word_tokenize\n",
        "from nltk.corpus import stopwords\n",
        "from nltk.stem.porter import PorterStemmer\n",
        "from sklearn.cluster import KMeans\n",
        "from sklearn.feature_extraction.text import TfidfVectorizer"
      ]
    },
    {
      "cell_type": "code",
      "source": [
        "nltk.download('stopwords')\n",
        "nltk.download('punkt_tab')"
      ],
      "metadata": {
        "colab": {
          "base_uri": "https://localhost:8080/"
        },
        "id": "rHaJOwa7DdeO",
        "outputId": "372115b2-dcea-4322-a216-c3bcabbf4d96"
      },
      "execution_count": 17,
      "outputs": [
        {
          "output_type": "stream",
          "name": "stderr",
          "text": [
            "[nltk_data] Downloading package stopwords to /root/nltk_data...\n",
            "[nltk_data]   Package stopwords is already up-to-date!\n",
            "[nltk_data] Downloading package punkt_tab to /root/nltk_data...\n",
            "[nltk_data]   Unzipping tokenizers/punkt_tab.zip.\n"
          ]
        },
        {
          "output_type": "execute_result",
          "data": {
            "text/plain": [
              "True"
            ]
          },
          "metadata": {},
          "execution_count": 17
        }
      ]
    },
    {
      "cell_type": "code",
      "source": [
        "def tokenizer(text):\n",
        "    tokens = word_tokenize(text)\n",
        "    stemmer = PorterStemmer()\n",
        "    tokens = [stemmer.stem(word) for word in tokens if word not in stopwords.words('english') ]\n",
        "    return tokens"
      ],
      "metadata": {
        "id": "2D0NiKebDhM0"
      },
      "execution_count": 18,
      "outputs": []
    },
    {
      "cell_type": "code",
      "source": [
        "def cluster_sentences(text,n=2):\n",
        "  vec=TfidfVectorizer(tokenizer=tokenizer,stop_words=stopwords.words('english'),lowercase=True).fit_transform(text)\n",
        "  model=KMeans(n_clusters=n)\n",
        "  model.fit(vec)\n",
        "  topics=collections.defaultdict(list)\n",
        "  for i,cluster in enumerate(model.labels_):\n",
        "    topics[cluster].append(i)\n",
        "  return dict(topics)"
      ],
      "metadata": {
        "id": "IOe81FtMEKrs"
      },
      "execution_count": 28,
      "outputs": []
    },
    {
      "cell_type": "code",
      "source": [
        "n_cluster=2\n",
        "sentences = [\n",
        "    \"AI is changing the world.\",  # Technology\n",
        "    \"Technology makes life easier.\",  # Technology\n",
        "    \"Why don’t scientists trust atoms? Because they make up everything!\",  # Joke\n",
        "    \"What do you call fake spaghetti? An impasta!\",  # Joke\n",
        "    \"Why did the math book look sad? It had too many problems!\"  # Joke\n",
        "]\n",
        "clusters=cluster_sentences(sentences,n_cluster)\n",
        "for cluster in range(n_cluster):\n",
        "  print(\"CLUSTER\",cluster,\":\")\n",
        "  for i,sentence in enumerate(clusters[cluster]):\n",
        "    print(\"\\tSENTENCE\",i+1,\":\",sentences[sentence])"
      ],
      "metadata": {
        "colab": {
          "base_uri": "https://localhost:8080/"
        },
        "id": "MvyQjKNSEkp0",
        "outputId": "eca86e02-3467-4dca-8401-58ac422042b1"
      },
      "execution_count": 35,
      "outputs": [
        {
          "output_type": "stream",
          "name": "stdout",
          "text": [
            "CLUSTER 0 :\n",
            "\tSENTENCE 1 : Why don’t scientists trust atoms? Because they make up everything!\n",
            "\tSENTENCE 2 : What do you call fake spaghetti? An impasta!\n",
            "\tSENTENCE 3 : Why did the math book look sad? It had too many problems!\n",
            "CLUSTER 1 :\n",
            "\tSENTENCE 1 : AI is changing the world.\n",
            "\tSENTENCE 2 : Technology makes life easier.\n"
          ]
        }
      ]
    },
    {
      "cell_type": "code",
      "source": [],
      "metadata": {
        "id": "0JexFetkD1t0"
      },
      "execution_count": null,
      "outputs": []
    }
  ]
}