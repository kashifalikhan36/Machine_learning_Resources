{
  "nbformat": 4,
  "nbformat_minor": 0,
  "metadata": {
    "colab": {
      "provenance": [],
      "authorship_tag": "ABX9TyO3PMqgpnHWkV0CnRFMqG/Z",
      "include_colab_link": true
    },
    "kernelspec": {
      "name": "python3",
      "display_name": "Python 3"
    },
    "language_info": {
      "name": "python"
    }
  },
  "cells": [
    {
      "cell_type": "markdown",
      "metadata": {
        "id": "view-in-github",
        "colab_type": "text"
      },
      "source": [
        "<a href=\"https://colab.research.google.com/github/kashifalikhan36/Machine_learning_in_1_week/blob/main/K_mean_clustering_text_classifier_.ipynb\" target=\"_parent\"><img src=\"https://colab.research.google.com/assets/colab-badge.svg\" alt=\"Open In Colab\"/></a>"
      ]
    },
    {
      "cell_type": "code",
      "execution_count": 2,
      "metadata": {
        "id": "S6UoACNFCDsH"
      },
      "outputs": [],
      "source": [
        "import collections\n",
        "import nltk\n",
        "from nltk import word_tokenize\n",
        "from nltk.corpus import stopwords\n",
        "from nltk.stem import PorterStemmer\n",
        "from sklearn.cluster import KMeans\n",
        "from sklearn.feature_extraction.text import TfidfVectorizer"
      ]
    },
    {
      "cell_type": "code",
      "source": [
        "nltk.download('stopwords')\n",
        "nltk.download('punkt')"
      ],
      "metadata": {
        "colab": {
          "base_uri": "https://localhost:8080/"
        },
        "id": "HDPpUaW4EH4l",
        "outputId": "ca083a68-5082-4c14-97aa-67c59b0c1c3b"
      },
      "execution_count": 6,
      "outputs": [
        {
          "output_type": "stream",
          "name": "stderr",
          "text": [
            "[nltk_data] Downloading package stopwords to /root/nltk_data...\n",
            "[nltk_data]   Package stopwords is already up-to-date!\n",
            "[nltk_data] Downloading package punkt to /root/nltk_data...\n",
            "[nltk_data]   Unzipping tokenizers/punkt.zip.\n"
          ]
        },
        {
          "output_type": "execute_result",
          "data": {
            "text/plain": [
              "True"
            ]
          },
          "metadata": {},
          "execution_count": 6
        }
      ]
    },
    {
      "cell_type": "code",
      "source": [
        "def tokenizer(text):\n",
        "  tokens=word_tokenize(text)\n",
        "  stemmer=PorterStemmer()\n",
        "  token=[stemmer.stem(t) for t in tokens if t not in stopwords.words('english')]\n",
        "  return token"
      ],
      "metadata": {
        "id": "teqpAbJVEQJd"
      },
      "execution_count": 7,
      "outputs": []
    },
    {
      "cell_type": "code",
      "source": [
        "tokenizer(\"hi how are you doing long time no see\")"
      ],
      "metadata": {
        "colab": {
          "base_uri": "https://localhost:8080/"
        },
        "id": "sX2eSNhPEtPc",
        "outputId": "b43a6c95-653d-4f13-d921-0d1cc24b1278"
      },
      "execution_count": 9,
      "outputs": [
        {
          "output_type": "execute_result",
          "data": {
            "text/plain": [
              "['hi', 'long', 'time', 'see']"
            ]
          },
          "metadata": {},
          "execution_count": 9
        }
      ]
    },
    {
      "cell_type": "code",
      "source": [
        "def cluster_sen(texts,n=2):\n",
        "  vectorizer=TfidfVectorizer(tokenizer=tokenizer,stop_words=stopwords.words('english'),lowercase=True)\n",
        "  matrix=vectorizer.fit_transform(texts)\n",
        "  model=KMeans(n_clusters=n)\n",
        "  model.fit(matrix)\n",
        "  topics = collections.defaultdict(list)\n",
        "  for index,label in enumerate(model.labels_):\n",
        "      topics[label].append(index)\n",
        "  return dict(topics)"
      ],
      "metadata": {
        "id": "79WY3qR_FBLV"
      },
      "execution_count": 16,
      "outputs": []
    },
    {
      "cell_type": "code",
      "source": [
        "sentences=[\n",
        "    \"Quantum physics is quiet important now a days\",\n",
        "    \"software engineering is hotter topicin the sillican valley\",\n",
        "    \"Investing in stocks and trading with them are not that easy\",\n",
        "    \"FOREX is the stock market for trading currency\",\n",
        "    \"Warren Buffet is famous for making good investment. He knows abot stock market.\"\n",
        "]"
      ],
      "metadata": {
        "id": "hfmPCYf2GJL3"
      },
      "execution_count": 25,
      "outputs": []
    },
    {
      "cell_type": "code",
      "source": [
        "n_clusters=2\n",
        "clusters=cluster_sen(sentences,n_clusters)\n",
        "for clus in clusters:\n",
        "  print(\"cluster\",clus,\":\")\n",
        "  for i,sentence in enumerate(clusters[clus]):\n",
        "    print(\"\\tSENTENCES\",i+1,\": \",sentences[sentence])"
      ],
      "metadata": {
        "colab": {
          "base_uri": "https://localhost:8080/"
        },
        "id": "35G440n3HkRk",
        "outputId": "a2a053e4-82dc-47a6-8ef5-631f64ea794f"
      },
      "execution_count": 26,
      "outputs": [
        {
          "output_type": "stream",
          "name": "stdout",
          "text": [
            "cluster 1 :\n",
            "\tSENTENCES 1 :  Quantum physics is quiet important now a days\n",
            "cluster 0 :\n",
            "\tSENTENCES 1 :  software engineering is hotter topicin the sillican valley\n",
            "\tSENTENCES 2 :  Investing in stocks and trading with them are not that easy\n",
            "\tSENTENCES 3 :  FOREX is the stock market for trading currency\n",
            "\tSENTENCES 4 :  Warren Buffet is famous for making good investment. He knows abot stock market.\n"
          ]
        }
      ]
    }
  ]
}