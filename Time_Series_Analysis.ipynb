{
  "nbformat": 4,
  "nbformat_minor": 0,
  "metadata": {
    "colab": {
      "provenance": [],
      "authorship_tag": "ABX9TyM8ETCtrT00lf1tnTBDgW1f",
      "include_colab_link": true
    },
    "kernelspec": {
      "name": "python3",
      "display_name": "Python 3"
    },
    "language_info": {
      "name": "python"
    }
  },
  "cells": [
    {
      "cell_type": "markdown",
      "metadata": {
        "id": "view-in-github",
        "colab_type": "text"
      },
      "source": [
        "<a href=\"https://colab.research.google.com/github/kashifalikhan36/Machine_learning_Resources/blob/main/Time_Series_Analysis.ipynb\" target=\"_parent\"><img src=\"https://colab.research.google.com/assets/colab-badge.svg\" alt=\"Open In Colab\"/></a>"
      ]
    },
    {
      "cell_type": "code",
      "execution_count": 1,
      "metadata": {
        "id": "M4E7S4h_UAPK"
      },
      "outputs": [],
      "source": [
        "import numpy as np\n",
        "import matplotlib.pyplot as plt\n",
        "from keras.layers import Dense, Dropout, LSTM\n",
        "from keras.models import Sequential\n",
        "from sklearn.preprocessing import MinMaxScaler\n",
        "from sklearn.metrics import mean_squared_error\n",
        "import pandas as pd"
      ]
    },
    {
      "cell_type": "code",
      "source": [
        "NUM_OF_PREV_ITEMS=5\n",
        "df=pd.read_csv(\"daily-min-temperatures.csv\")\n",
        "df.head()"
      ],
      "metadata": {
        "colab": {
          "base_uri": "https://localhost:8080/",
          "height": 206
        },
        "id": "WiqXRDxhUa3j",
        "outputId": "31c23b3d-2907-4bec-ea15-bfae37c9da1d"
      },
      "execution_count": 2,
      "outputs": [
        {
          "output_type": "execute_result",
          "data": {
            "text/plain": [
              "         Date  Temp\n",
              "0  1981-01-01  20.7\n",
              "1  1981-01-02  17.9\n",
              "2  1981-01-03  18.8\n",
              "3  1981-01-04  14.6\n",
              "4  1981-01-05  15.8"
            ],
            "text/html": [
              "\n",
              "  <div id=\"df-79be16f0-bb5b-4ea4-b7fa-2f71b5be2f33\" class=\"colab-df-container\">\n",
              "    <div>\n",
              "<style scoped>\n",
              "    .dataframe tbody tr th:only-of-type {\n",
              "        vertical-align: middle;\n",
              "    }\n",
              "\n",
              "    .dataframe tbody tr th {\n",
              "        vertical-align: top;\n",
              "    }\n",
              "\n",
              "    .dataframe thead th {\n",
              "        text-align: right;\n",
              "    }\n",
              "</style>\n",
              "<table border=\"1\" class=\"dataframe\">\n",
              "  <thead>\n",
              "    <tr style=\"text-align: right;\">\n",
              "      <th></th>\n",
              "      <th>Date</th>\n",
              "      <th>Temp</th>\n",
              "    </tr>\n",
              "  </thead>\n",
              "  <tbody>\n",
              "    <tr>\n",
              "      <th>0</th>\n",
              "      <td>1981-01-01</td>\n",
              "      <td>20.7</td>\n",
              "    </tr>\n",
              "    <tr>\n",
              "      <th>1</th>\n",
              "      <td>1981-01-02</td>\n",
              "      <td>17.9</td>\n",
              "    </tr>\n",
              "    <tr>\n",
              "      <th>2</th>\n",
              "      <td>1981-01-03</td>\n",
              "      <td>18.8</td>\n",
              "    </tr>\n",
              "    <tr>\n",
              "      <th>3</th>\n",
              "      <td>1981-01-04</td>\n",
              "      <td>14.6</td>\n",
              "    </tr>\n",
              "    <tr>\n",
              "      <th>4</th>\n",
              "      <td>1981-01-05</td>\n",
              "      <td>15.8</td>\n",
              "    </tr>\n",
              "  </tbody>\n",
              "</table>\n",
              "</div>\n",
              "    <div class=\"colab-df-buttons\">\n",
              "\n",
              "  <div class=\"colab-df-container\">\n",
              "    <button class=\"colab-df-convert\" onclick=\"convertToInteractive('df-79be16f0-bb5b-4ea4-b7fa-2f71b5be2f33')\"\n",
              "            title=\"Convert this dataframe to an interactive table.\"\n",
              "            style=\"display:none;\">\n",
              "\n",
              "  <svg xmlns=\"http://www.w3.org/2000/svg\" height=\"24px\" viewBox=\"0 -960 960 960\">\n",
              "    <path d=\"M120-120v-720h720v720H120Zm60-500h600v-160H180v160Zm220 220h160v-160H400v160Zm0 220h160v-160H400v160ZM180-400h160v-160H180v160Zm440 0h160v-160H620v160ZM180-180h160v-160H180v160Zm440 0h160v-160H620v160Z\"/>\n",
              "  </svg>\n",
              "    </button>\n",
              "\n",
              "  <style>\n",
              "    .colab-df-container {\n",
              "      display:flex;\n",
              "      gap: 12px;\n",
              "    }\n",
              "\n",
              "    .colab-df-convert {\n",
              "      background-color: #E8F0FE;\n",
              "      border: none;\n",
              "      border-radius: 50%;\n",
              "      cursor: pointer;\n",
              "      display: none;\n",
              "      fill: #1967D2;\n",
              "      height: 32px;\n",
              "      padding: 0 0 0 0;\n",
              "      width: 32px;\n",
              "    }\n",
              "\n",
              "    .colab-df-convert:hover {\n",
              "      background-color: #E2EBFA;\n",
              "      box-shadow: 0px 1px 2px rgba(60, 64, 67, 0.3), 0px 1px 3px 1px rgba(60, 64, 67, 0.15);\n",
              "      fill: #174EA6;\n",
              "    }\n",
              "\n",
              "    .colab-df-buttons div {\n",
              "      margin-bottom: 4px;\n",
              "    }\n",
              "\n",
              "    [theme=dark] .colab-df-convert {\n",
              "      background-color: #3B4455;\n",
              "      fill: #D2E3FC;\n",
              "    }\n",
              "\n",
              "    [theme=dark] .colab-df-convert:hover {\n",
              "      background-color: #434B5C;\n",
              "      box-shadow: 0px 1px 3px 1px rgba(0, 0, 0, 0.15);\n",
              "      filter: drop-shadow(0px 1px 2px rgba(0, 0, 0, 0.3));\n",
              "      fill: #FFFFFF;\n",
              "    }\n",
              "  </style>\n",
              "\n",
              "    <script>\n",
              "      const buttonEl =\n",
              "        document.querySelector('#df-79be16f0-bb5b-4ea4-b7fa-2f71b5be2f33 button.colab-df-convert');\n",
              "      buttonEl.style.display =\n",
              "        google.colab.kernel.accessAllowed ? 'block' : 'none';\n",
              "\n",
              "      async function convertToInteractive(key) {\n",
              "        const element = document.querySelector('#df-79be16f0-bb5b-4ea4-b7fa-2f71b5be2f33');\n",
              "        const dataTable =\n",
              "          await google.colab.kernel.invokeFunction('convertToInteractive',\n",
              "                                                    [key], {});\n",
              "        if (!dataTable) return;\n",
              "\n",
              "        const docLinkHtml = 'Like what you see? Visit the ' +\n",
              "          '<a target=\"_blank\" href=https://colab.research.google.com/notebooks/data_table.ipynb>data table notebook</a>'\n",
              "          + ' to learn more about interactive tables.';\n",
              "        element.innerHTML = '';\n",
              "        dataTable['output_type'] = 'display_data';\n",
              "        await google.colab.output.renderOutput(dataTable, element);\n",
              "        const docLink = document.createElement('div');\n",
              "        docLink.innerHTML = docLinkHtml;\n",
              "        element.appendChild(docLink);\n",
              "      }\n",
              "    </script>\n",
              "  </div>\n",
              "\n",
              "\n",
              "<div id=\"df-ff826c7f-b90c-48ad-94b4-94bac2a777c2\">\n",
              "  <button class=\"colab-df-quickchart\" onclick=\"quickchart('df-ff826c7f-b90c-48ad-94b4-94bac2a777c2')\"\n",
              "            title=\"Suggest charts\"\n",
              "            style=\"display:none;\">\n",
              "\n",
              "<svg xmlns=\"http://www.w3.org/2000/svg\" height=\"24px\"viewBox=\"0 0 24 24\"\n",
              "     width=\"24px\">\n",
              "    <g>\n",
              "        <path d=\"M19 3H5c-1.1 0-2 .9-2 2v14c0 1.1.9 2 2 2h14c1.1 0 2-.9 2-2V5c0-1.1-.9-2-2-2zM9 17H7v-7h2v7zm4 0h-2V7h2v10zm4 0h-2v-4h2v4z\"/>\n",
              "    </g>\n",
              "</svg>\n",
              "  </button>\n",
              "\n",
              "<style>\n",
              "  .colab-df-quickchart {\n",
              "      --bg-color: #E8F0FE;\n",
              "      --fill-color: #1967D2;\n",
              "      --hover-bg-color: #E2EBFA;\n",
              "      --hover-fill-color: #174EA6;\n",
              "      --disabled-fill-color: #AAA;\n",
              "      --disabled-bg-color: #DDD;\n",
              "  }\n",
              "\n",
              "  [theme=dark] .colab-df-quickchart {\n",
              "      --bg-color: #3B4455;\n",
              "      --fill-color: #D2E3FC;\n",
              "      --hover-bg-color: #434B5C;\n",
              "      --hover-fill-color: #FFFFFF;\n",
              "      --disabled-bg-color: #3B4455;\n",
              "      --disabled-fill-color: #666;\n",
              "  }\n",
              "\n",
              "  .colab-df-quickchart {\n",
              "    background-color: var(--bg-color);\n",
              "    border: none;\n",
              "    border-radius: 50%;\n",
              "    cursor: pointer;\n",
              "    display: none;\n",
              "    fill: var(--fill-color);\n",
              "    height: 32px;\n",
              "    padding: 0;\n",
              "    width: 32px;\n",
              "  }\n",
              "\n",
              "  .colab-df-quickchart:hover {\n",
              "    background-color: var(--hover-bg-color);\n",
              "    box-shadow: 0 1px 2px rgba(60, 64, 67, 0.3), 0 1px 3px 1px rgba(60, 64, 67, 0.15);\n",
              "    fill: var(--button-hover-fill-color);\n",
              "  }\n",
              "\n",
              "  .colab-df-quickchart-complete:disabled,\n",
              "  .colab-df-quickchart-complete:disabled:hover {\n",
              "    background-color: var(--disabled-bg-color);\n",
              "    fill: var(--disabled-fill-color);\n",
              "    box-shadow: none;\n",
              "  }\n",
              "\n",
              "  .colab-df-spinner {\n",
              "    border: 2px solid var(--fill-color);\n",
              "    border-color: transparent;\n",
              "    border-bottom-color: var(--fill-color);\n",
              "    animation:\n",
              "      spin 1s steps(1) infinite;\n",
              "  }\n",
              "\n",
              "  @keyframes spin {\n",
              "    0% {\n",
              "      border-color: transparent;\n",
              "      border-bottom-color: var(--fill-color);\n",
              "      border-left-color: var(--fill-color);\n",
              "    }\n",
              "    20% {\n",
              "      border-color: transparent;\n",
              "      border-left-color: var(--fill-color);\n",
              "      border-top-color: var(--fill-color);\n",
              "    }\n",
              "    30% {\n",
              "      border-color: transparent;\n",
              "      border-left-color: var(--fill-color);\n",
              "      border-top-color: var(--fill-color);\n",
              "      border-right-color: var(--fill-color);\n",
              "    }\n",
              "    40% {\n",
              "      border-color: transparent;\n",
              "      border-right-color: var(--fill-color);\n",
              "      border-top-color: var(--fill-color);\n",
              "    }\n",
              "    60% {\n",
              "      border-color: transparent;\n",
              "      border-right-color: var(--fill-color);\n",
              "    }\n",
              "    80% {\n",
              "      border-color: transparent;\n",
              "      border-right-color: var(--fill-color);\n",
              "      border-bottom-color: var(--fill-color);\n",
              "    }\n",
              "    90% {\n",
              "      border-color: transparent;\n",
              "      border-bottom-color: var(--fill-color);\n",
              "    }\n",
              "  }\n",
              "</style>\n",
              "\n",
              "  <script>\n",
              "    async function quickchart(key) {\n",
              "      const quickchartButtonEl =\n",
              "        document.querySelector('#' + key + ' button');\n",
              "      quickchartButtonEl.disabled = true;  // To prevent multiple clicks.\n",
              "      quickchartButtonEl.classList.add('colab-df-spinner');\n",
              "      try {\n",
              "        const charts = await google.colab.kernel.invokeFunction(\n",
              "            'suggestCharts', [key], {});\n",
              "      } catch (error) {\n",
              "        console.error('Error during call to suggestCharts:', error);\n",
              "      }\n",
              "      quickchartButtonEl.classList.remove('colab-df-spinner');\n",
              "      quickchartButtonEl.classList.add('colab-df-quickchart-complete');\n",
              "    }\n",
              "    (() => {\n",
              "      let quickchartButtonEl =\n",
              "        document.querySelector('#df-ff826c7f-b90c-48ad-94b4-94bac2a777c2 button');\n",
              "      quickchartButtonEl.style.display =\n",
              "        google.colab.kernel.accessAllowed ? 'block' : 'none';\n",
              "    })();\n",
              "  </script>\n",
              "</div>\n",
              "\n",
              "    </div>\n",
              "  </div>\n"
            ],
            "application/vnd.google.colaboratory.intrinsic+json": {
              "type": "dataframe",
              "variable_name": "df",
              "summary": "{\n  \"name\": \"df\",\n  \"rows\": 3650,\n  \"fields\": [\n    {\n      \"column\": \"Date\",\n      \"properties\": {\n        \"dtype\": \"object\",\n        \"num_unique_values\": 3650,\n        \"samples\": [\n          \"1984-08-06\",\n          \"1985-08-03\",\n          \"1981-08-18\"\n        ],\n        \"semantic_type\": \"\",\n        \"description\": \"\"\n      }\n    },\n    {\n      \"column\": \"Temp\",\n      \"properties\": {\n        \"dtype\": \"number\",\n        \"std\": 4.07183689939719,\n        \"min\": 0.0,\n        \"max\": 26.3,\n        \"num_unique_values\": 229,\n        \"samples\": [\n          1.7,\n          14.5,\n          13.3\n        ],\n        \"semantic_type\": \"\",\n        \"description\": \"\"\n      }\n    }\n  ]\n}"
            }
          },
          "metadata": {},
          "execution_count": 2
        }
      ]
    },
    {
      "cell_type": "code",
      "source": [
        "np.random.seed(1)"
      ],
      "metadata": {
        "id": "pQyaZjGCWG9o"
      },
      "execution_count": 8,
      "outputs": []
    },
    {
      "cell_type": "code",
      "source": [
        "data=df[[\"Temp\"]].values\n",
        "data=data.astype('float32')\n",
        "scaler=MinMaxScaler(feature_range=(0,1))\n",
        "data=scaler.fit_transform(data)"
      ],
      "metadata": {
        "id": "Rs0TEndEV8Mu"
      },
      "execution_count": 9,
      "outputs": []
    },
    {
      "cell_type": "code",
      "source": [
        "from sklearn.model_selection import train_test_split\n",
        "X_train, X_test, y_train, y_test = train_test_split(data, data, test_size=0.2, random_state=42)"
      ],
      "metadata": {
        "id": "Y1q44fJeWf7C"
      },
      "execution_count": 10,
      "outputs": []
    },
    {
      "cell_type": "code",
      "source": [
        "#Reconstruct the data as that they will be in 1 columns and having ll the 5 values and the target will have 5th value\n",
        "def reconstruct_data(data, n_prev = 1):\n",
        "    docX, docY = [], []\n",
        "    for i in range(len(data)-n_prev-1):\n",
        "        docX.append(data[i:(i+n_prev)])\n",
        "        docY.append(data[(i+n_prev)])\n",
        "    return np.array(docX), np.array(docY)"
      ],
      "metadata": {
        "id": "cb8KANopWlq0"
      },
      "execution_count": 11,
      "outputs": []
    },
    {
      "cell_type": "code",
      "source": [
        "train_x, train_y = reconstruct_data(X_train, NUM_OF_PREV_ITEMS)\n",
        "test_x, test_y = reconstruct_data(X_test, NUM_OF_PREV_ITEMS)"
      ],
      "metadata": {
        "id": "tFhn_uV-Xyh6"
      },
      "execution_count": 12,
      "outputs": []
    },
    {
      "cell_type": "code",
      "source": [
        "print(train_x[0][0]) #Features\n",
        "print(train_y[0]) #Target"
      ],
      "metadata": {
        "colab": {
          "base_uri": "https://localhost:8080/"
        },
        "id": "ruon1K9wctjb",
        "outputId": "47958362-d114-455d-93ae-f2749a550eaa"
      },
      "execution_count": 22,
      "outputs": [
        {
          "output_type": "stream",
          "name": "stdout",
          "text": [
            "[0.6387833  0.38403046 0.6768061  0.5285171  0.2889734 ]\n",
            "0.38783273\n"
          ]
        }
      ]
    },
    {
      "cell_type": "code",
      "source": [
        "#Reshape to [numOfSample,time steps, numOfFeatures]\n",
        "#step is 1 because we want to predict the next value (t+1)\n",
        "train_x=np.reshape(train_x, (train_x.shape[0], 1, train_x.shape[1]))\n",
        "test_x=np.reshape(test_x, (test_x.shape[0], 1, test_x.shape[1]))"
      ],
      "metadata": {
        "id": "HO09PHE2X3-M"
      },
      "execution_count": 13,
      "outputs": []
    },
    {
      "cell_type": "code",
      "source": [
        "model=Sequential()\n",
        "model.add(LSTM(100, return_sequences=True, input_shape=(1, NUM_OF_PREV_ITEMS)))\n",
        "model.add(Dropout(0.6))\n",
        "model.add(LSTM(50, return_sequences=True))\n",
        "model.add(Dropout(0.3))\n",
        "model.add(LSTM(50))\n",
        "model.add(Dropout(0.3))\n",
        "model.add(Dense(1))\n",
        "model.compile(loss='mean_squared_error', optimizer='adam')\n",
        "model.fit(train_x, train_y, epochs=50, batch_size=16,verbose=2)"
      ],
      "metadata": {
        "colab": {
          "base_uri": "https://localhost:8080/"
        },
        "id": "oL3g_1qLZRRh",
        "outputId": "99577535-9362-48c2-8b8b-73fe75924b05"
      },
      "execution_count": 15,
      "outputs": [
        {
          "output_type": "stream",
          "name": "stdout",
          "text": [
            "Epoch 1/50\n",
            "183/183 - 7s - 39ms/step - loss: 0.0468\n",
            "Epoch 2/50\n",
            "183/183 - 1s - 4ms/step - loss: 0.0261\n",
            "Epoch 3/50\n",
            "183/183 - 1s - 7ms/step - loss: 0.0262\n",
            "Epoch 4/50\n",
            "183/183 - 1s - 7ms/step - loss: 0.0256\n",
            "Epoch 5/50\n",
            "183/183 - 1s - 4ms/step - loss: 0.0249\n",
            "Epoch 6/50\n",
            "183/183 - 1s - 7ms/step - loss: 0.0253\n",
            "Epoch 7/50\n",
            "183/183 - 1s - 4ms/step - loss: 0.0249\n",
            "Epoch 8/50\n",
            "183/183 - 2s - 13ms/step - loss: 0.0252\n",
            "Epoch 9/50\n",
            "183/183 - 2s - 9ms/step - loss: 0.0248\n",
            "Epoch 10/50\n",
            "183/183 - 2s - 10ms/step - loss: 0.0246\n",
            "Epoch 11/50\n",
            "183/183 - 1s - 7ms/step - loss: 0.0246\n",
            "Epoch 12/50\n",
            "183/183 - 1s - 4ms/step - loss: 0.0247\n",
            "Epoch 13/50\n",
            "183/183 - 1s - 7ms/step - loss: 0.0245\n",
            "Epoch 14/50\n",
            "183/183 - 1s - 4ms/step - loss: 0.0245\n",
            "Epoch 15/50\n",
            "183/183 - 1s - 4ms/step - loss: 0.0243\n",
            "Epoch 16/50\n",
            "183/183 - 1s - 6ms/step - loss: 0.0242\n",
            "Epoch 17/50\n",
            "183/183 - 1s - 7ms/step - loss: 0.0243\n",
            "Epoch 18/50\n",
            "183/183 - 1s - 8ms/step - loss: 0.0242\n",
            "Epoch 19/50\n",
            "183/183 - 2s - 11ms/step - loss: 0.0243\n",
            "Epoch 20/50\n",
            "183/183 - 2s - 9ms/step - loss: 0.0244\n",
            "Epoch 21/50\n",
            "183/183 - 1s - 7ms/step - loss: 0.0240\n",
            "Epoch 22/50\n",
            "183/183 - 1s - 4ms/step - loss: 0.0240\n",
            "Epoch 23/50\n",
            "183/183 - 1s - 4ms/step - loss: 0.0240\n",
            "Epoch 24/50\n",
            "183/183 - 1s - 7ms/step - loss: 0.0240\n",
            "Epoch 25/50\n",
            "183/183 - 1s - 4ms/step - loss: 0.0241\n",
            "Epoch 26/50\n",
            "183/183 - 1s - 4ms/step - loss: 0.0241\n",
            "Epoch 27/50\n",
            "183/183 - 1s - 4ms/step - loss: 0.0242\n",
            "Epoch 28/50\n",
            "183/183 - 1s - 7ms/step - loss: 0.0242\n",
            "Epoch 29/50\n",
            "183/183 - 1s - 7ms/step - loss: 0.0241\n",
            "Epoch 30/50\n",
            "183/183 - 2s - 9ms/step - loss: 0.0241\n",
            "Epoch 31/50\n",
            "183/183 - 1s - 7ms/step - loss: 0.0241\n",
            "Epoch 32/50\n",
            "183/183 - 2s - 11ms/step - loss: 0.0241\n",
            "Epoch 33/50\n",
            "183/183 - 1s - 7ms/step - loss: 0.0240\n",
            "Epoch 34/50\n",
            "183/183 - 1s - 4ms/step - loss: 0.0240\n",
            "Epoch 35/50\n",
            "183/183 - 1s - 7ms/step - loss: 0.0240\n",
            "Epoch 36/50\n",
            "183/183 - 1s - 4ms/step - loss: 0.0239\n",
            "Epoch 37/50\n",
            "183/183 - 1s - 7ms/step - loss: 0.0240\n",
            "Epoch 38/50\n",
            "183/183 - 1s - 4ms/step - loss: 0.0239\n",
            "Epoch 39/50\n",
            "183/183 - 1s - 7ms/step - loss: 0.0239\n",
            "Epoch 40/50\n",
            "183/183 - 1s - 8ms/step - loss: 0.0239\n",
            "Epoch 41/50\n",
            "183/183 - 2s - 9ms/step - loss: 0.0240\n",
            "Epoch 42/50\n",
            "183/183 - 1s - 7ms/step - loss: 0.0239\n",
            "Epoch 43/50\n",
            "183/183 - 1s - 5ms/step - loss: 0.0239\n",
            "Epoch 44/50\n",
            "183/183 - 1s - 4ms/step - loss: 0.0240\n",
            "Epoch 45/50\n",
            "183/183 - 1s - 7ms/step - loss: 0.0239\n",
            "Epoch 46/50\n",
            "183/183 - 1s - 4ms/step - loss: 0.0239\n",
            "Epoch 47/50\n",
            "183/183 - 1s - 7ms/step - loss: 0.0239\n",
            "Epoch 48/50\n",
            "183/183 - 1s - 4ms/step - loss: 0.0239\n",
            "Epoch 49/50\n",
            "183/183 - 1s - 7ms/step - loss: 0.0239\n",
            "Epoch 50/50\n",
            "183/183 - 2s - 9ms/step - loss: 0.0239\n"
          ]
        },
        {
          "output_type": "execute_result",
          "data": {
            "text/plain": [
              "<keras.src.callbacks.history.History at 0x7bb499724b50>"
            ]
          },
          "metadata": {},
          "execution_count": 15
        }
      ]
    },
    {
      "cell_type": "code",
      "source": [
        "test_pred=model.predict(test_x)\n",
        "mean_squared_error(test_pred, test_y)"
      ],
      "metadata": {
        "colab": {
          "base_uri": "https://localhost:8080/"
        },
        "id": "IWCLtH5XbB-u",
        "outputId": "ccfd6654-8d97-4580-d24e-4c1aacaad4d1"
      },
      "execution_count": 19,
      "outputs": [
        {
          "output_type": "stream",
          "name": "stdout",
          "text": [
            "\u001b[1m23/23\u001b[0m \u001b[32m━━━━━━━━━━━━━━━━━━━━\u001b[0m\u001b[37m\u001b[0m \u001b[1m0s\u001b[0m 2ms/step \n"
          ]
        },
        {
          "output_type": "execute_result",
          "data": {
            "text/plain": [
              "0.024820532649755478"
            ]
          },
          "metadata": {},
          "execution_count": 19
        }
      ]
    }
  ]
}