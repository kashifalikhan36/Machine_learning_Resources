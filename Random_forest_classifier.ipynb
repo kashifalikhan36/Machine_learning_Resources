{
  "nbformat": 4,
  "nbformat_minor": 0,
  "metadata": {
    "colab": {
      "provenance": [],
      "authorship_tag": "ABX9TyMDPMu2toujEJzjkxK72NK9",
      "include_colab_link": true
    },
    "kernelspec": {
      "name": "python3",
      "display_name": "Python 3"
    },
    "language_info": {
      "name": "python"
    }
  },
  "cells": [
    {
      "cell_type": "markdown",
      "metadata": {
        "id": "view-in-github",
        "colab_type": "text"
      },
      "source": [
        "<a href=\"https://colab.research.google.com/github/kashifalikhan36/Machine_learning_in_1_week/blob/main/Random_forest_classifier.ipynb\" target=\"_parent\"><img src=\"https://colab.research.google.com/assets/colab-badge.svg\" alt=\"Open In Colab\"/></a>"
      ]
    },
    {
      "cell_type": "code",
      "execution_count": 3,
      "metadata": {
        "id": "B0yYUHc0Y5ed"
      },
      "outputs": [],
      "source": [
        "from sklearn.datasets import load_digits\n",
        "data=load_digits()"
      ]
    },
    {
      "cell_type": "code",
      "source": [
        "feature=data.images.reshape((len(data.images),-1))\n",
        "iamge=data.target"
      ],
      "metadata": {
        "id": "nOCdlsPEZcSg"
      },
      "execution_count": 5,
      "outputs": []
    },
    {
      "cell_type": "code",
      "source": [
        "from sklearn.ensemble import RandomForestClassifier\n",
        "rdm=RandomForestClassifier(n_jobs=-1,max_features='sqrt')"
      ],
      "metadata": {
        "id": "04QJRrLQZvUv"
      },
      "execution_count": 7,
      "outputs": []
    },
    {
      "cell_type": "code",
      "source": [
        "from sklearn.model_selection import train_test_split\n",
        "X_train,X_test,y_train,y_test=train_test_split(feature,iamge,test_size=0.4)"
      ],
      "metadata": {
        "id": "WYGAC-MwaEFM"
      },
      "execution_count": 9,
      "outputs": []
    },
    {
      "cell_type": "code",
      "source": [
        "param_grid={\"n_estimators\":[10,100,500,1000],\n",
        "            \"max_depth\":[1,5,10,15],\n",
        "            \"min_samples_leaf\":[1,2,4,10,15,30,50]}"
      ],
      "metadata": {
        "id": "hruqH8WPaZBO"
      },
      "execution_count": 14,
      "outputs": []
    },
    {
      "cell_type": "code",
      "source": [
        "from sklearn.model_selection import GridSearchCV\n",
        "grid_search=GridSearchCV(estimator=rdm,param_grid=param_grid,cv=10)"
      ],
      "metadata": {
        "id": "G07hh7WxZlDF"
      },
      "execution_count": 15,
      "outputs": []
    },
    {
      "cell_type": "code",
      "source": [
        "grid_search.fit(X_train,y_train)"
      ],
      "metadata": {
        "id": "IWxSK2bba_3c"
      },
      "execution_count": null,
      "outputs": []
    },
    {
      "cell_type": "code",
      "source": [],
      "metadata": {
        "id": "GhSDwHZUbSBF"
      },
      "execution_count": null,
      "outputs": []
    }
  ]
}